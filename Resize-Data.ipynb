{
 "cells": [
  {
   "cell_type": "markdown",
   "id": "3b183ef2",
   "metadata": {},
   "source": [
    "## Resizing the input images"
   ]
  },
  {
   "cell_type": "code",
   "execution_count": 1,
   "id": "a9c59f30",
   "metadata": {},
   "outputs": [],
   "source": [
    "import cv2\n",
    "import os"
   ]
  },
  {
   "cell_type": "code",
   "execution_count": 2,
   "id": "9689e293",
   "metadata": {},
   "outputs": [],
   "source": [
    "# Path to the directory containing the original images\n",
    "original_dir = \"Data/Original Images\"\n",
    "\n",
    "# Path to the directory where resized images will be saved\n",
    "resized_dir = \"Data/Resized Images\""
   ]
  },
  {
   "cell_type": "code",
   "execution_count": 4,
   "id": "ba94513f",
   "metadata": {},
   "outputs": [
    {
     "name": "stdout",
     "output_type": "stream",
     "text": [
      "Resizing complete.\n"
     ]
    }
   ],
   "source": [
    "# Create the resized images directory if it doesn't exist\n",
    "os.makedirs(resized_dir, exist_ok=True)\n",
    "\n",
    "# Resize images in the original directory\n",
    "for filename in os.listdir(original_dir):\n",
    "    if filename.endswith(\".jpg\") or filename.endswith(\".png\"):  # Filter only JPG and PNG images\n",
    "        img_path = os.path.join(original_dir, filename)\n",
    "        img = cv2.imread(img_path)\n",
    "        resized_img = cv2.resize(img, (256, 256))  # Resize to 256x256 pixels\n",
    "        resized_img_path = os.path.join(resized_dir, filename)\n",
    "        cv2.imwrite(resized_img_path, resized_img)\n",
    "\n",
    "print(\"Resizing complete.\")"
   ]
  },
  {
   "cell_type": "code",
   "execution_count": null,
   "id": "b452b6d3",
   "metadata": {},
   "outputs": [],
   "source": []
  }
 ],
 "metadata": {
  "kernelspec": {
   "display_name": "Python 3 (ipykernel)",
   "language": "python",
   "name": "python3"
  },
  "language_info": {
   "codemirror_mode": {
    "name": "ipython",
    "version": 3
   },
   "file_extension": ".py",
   "mimetype": "text/x-python",
   "name": "python",
   "nbconvert_exporter": "python",
   "pygments_lexer": "ipython3",
   "version": "3.10.9"
  }
 },
 "nbformat": 4,
 "nbformat_minor": 5
}
